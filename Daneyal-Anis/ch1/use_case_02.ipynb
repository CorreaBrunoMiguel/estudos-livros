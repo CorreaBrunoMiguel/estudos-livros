{
 "cells": [
  {
   "cell_type": "code",
   "execution_count": 1,
   "id": "b6990513-8585-4332-b38c-50d13af6c0a4",
   "metadata": {},
   "outputs": [],
   "source": [
    "import pandas as pd"
   ]
  },
  {
   "cell_type": "code",
   "execution_count": 2,
   "id": "61ff8135-d1eb-4e58-b509-51de2e81ad22",
   "metadata": {},
   "outputs": [],
   "source": [
    "url = 'https://en.wikipedia.org/wiki/List_of_Academy_Award-winning_films'"
   ]
  },
  {
   "cell_type": "code",
   "execution_count": 3,
   "id": "e3481d51-03f4-4c84-97a4-3406e7071fa5",
   "metadata": {},
   "outputs": [],
   "source": [
    "dfs = pd.read_html(url)"
   ]
  },
  {
   "cell_type": "code",
   "execution_count": 4,
   "id": "9a705f2d-c28f-4fe2-8dc5-33e136a98303",
   "metadata": {},
   "outputs": [
    {
     "name": "stdout",
     "output_type": "stream",
     "text": [
      "2\n"
     ]
    }
   ],
   "source": [
    "print(len(dfs))"
   ]
  },
  {
   "cell_type": "code",
   "execution_count": 5,
   "id": "5b13601a-edd4-4188-8903-374bea97ddca",
   "metadata": {},
   "outputs": [
    {
     "name": "stdout",
     "output_type": "stream",
     "text": [
      "                                                   Film  Year Awards  \\\n",
      "0                                                 Anora  2024      5   \n",
      "1                                         The Brutalist  2024      3   \n",
      "2                                          Emilia Pérez  2024      2   \n",
      "3                                                Wicked  2024      2   \n",
      "4                                        Dune: Part Two  2024      2   \n",
      "...                                                 ...   ...    ...   \n",
      "1382                            The Yankee Doodle Mouse  1943      1   \n",
      "1383                                       The Yearling  1946      2   \n",
      "1384  Yesterday, Today and Tomorrow (Ieri, oggi, dom...  1964      1   \n",
      "1385                         You Can't Take It with You  1938      2   \n",
      "1386                    Zorba the Greek (Alexis Zorbas)  1964      3   \n",
      "\n",
      "     Nominations  \n",
      "0              6  \n",
      "1             10  \n",
      "2             13  \n",
      "3             10  \n",
      "4              5  \n",
      "...          ...  \n",
      "1382           1  \n",
      "1383           7  \n",
      "1384           1  \n",
      "1385           7  \n",
      "1386           7  \n",
      "\n",
      "[1387 rows x 4 columns]\n"
     ]
    }
   ],
   "source": [
    "df = dfs[0]\n",
    "print(df)"
   ]
  },
  {
   "cell_type": "code",
   "execution_count": 6,
   "id": "f05e38ca-e4b5-4581-9806-3774f7f271bf",
   "metadata": {},
   "outputs": [
    {
     "name": "stdout",
     "output_type": "stream",
     "text": [
      "0                                                   Anora\n",
      "1                                           The Brutalist\n",
      "2                                            Emilia Pérez\n",
      "3                                                  Wicked\n",
      "4                                          Dune: Part Two\n",
      "                              ...                        \n",
      "1382                              The Yankee Doodle Mouse\n",
      "1383                                         The Yearling\n",
      "1384    Yesterday, Today and Tomorrow (Ieri, oggi, dom...\n",
      "1385                           You Can't Take It with You\n",
      "1386                      Zorba the Greek (Alexis Zorbas)\n",
      "Name: Film, Length: 1387, dtype: object\n"
     ]
    }
   ],
   "source": [
    "print(df['Film'])"
   ]
  },
  {
   "cell_type": "code",
   "execution_count": 7,
   "id": "37aa42fc-fedd-43c3-81b9-bf54021faf72",
   "metadata": {},
   "outputs": [
    {
     "name": "stdout",
     "output_type": "stream",
     "text": [
      "0       2024\n",
      "1       2024\n",
      "2       2024\n",
      "3       2024\n",
      "4       2024\n",
      "        ... \n",
      "1382    1943\n",
      "1383    1946\n",
      "1384    1964\n",
      "1385    1938\n",
      "1386    1964\n",
      "Name: Year, Length: 1387, dtype: object\n"
     ]
    }
   ],
   "source": [
    "print(df['Year'])"
   ]
  },
  {
   "cell_type": "code",
   "execution_count": 8,
   "id": "b2668f5a-d6a3-4e18-a144-e86ad7d04455",
   "metadata": {},
   "outputs": [],
   "source": [
    "df2 = df[['Film', 'Year']]"
   ]
  },
  {
   "cell_type": "code",
   "execution_count": 9,
   "id": "3de725b4-aadb-4865-8ffe-b91b03ac9fc6",
   "metadata": {},
   "outputs": [
    {
     "name": "stdout",
     "output_type": "stream",
     "text": [
      "                                                   Film  Year\n",
      "0                                                 Anora  2024\n",
      "1                                         The Brutalist  2024\n",
      "2                                          Emilia Pérez  2024\n",
      "3                                                Wicked  2024\n",
      "4                                        Dune: Part Two  2024\n",
      "...                                                 ...   ...\n",
      "1382                            The Yankee Doodle Mouse  1943\n",
      "1383                                       The Yearling  1946\n",
      "1384  Yesterday, Today and Tomorrow (Ieri, oggi, dom...  1964\n",
      "1385                         You Can't Take It with You  1938\n",
      "1386                    Zorba the Greek (Alexis Zorbas)  1964\n",
      "\n",
      "[1387 rows x 2 columns]\n"
     ]
    }
   ],
   "source": [
    "print(df2)"
   ]
  },
  {
   "cell_type": "code",
   "execution_count": 10,
   "id": "2e6b43d5-9af9-429b-a5f2-f645acdf5b7e",
   "metadata": {},
   "outputs": [],
   "source": [
    "df2.to_excel('movie.xlsx')"
   ]
  },
  {
   "cell_type": "code",
   "execution_count": null,
   "id": "86ee8226-80b0-4ad8-a766-ea3244a24b46",
   "metadata": {},
   "outputs": [],
   "source": []
  }
 ],
 "metadata": {
  "kernelspec": {
   "display_name": "Python [conda env:base] *",
   "language": "python",
   "name": "conda-base-py"
  },
  "language_info": {
   "codemirror_mode": {
    "name": "ipython",
    "version": 3
   },
   "file_extension": ".py",
   "mimetype": "text/x-python",
   "name": "python",
   "nbconvert_exporter": "python",
   "pygments_lexer": "ipython3",
   "version": "3.12.7"
  }
 },
 "nbformat": 4,
 "nbformat_minor": 5
}
